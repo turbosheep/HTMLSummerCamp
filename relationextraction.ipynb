{
  "nbformat": 4,
  "nbformat_minor": 0,
  "metadata": {
    "colab": {
      "name": "relationextraction.ipynb",
      "version": "0.3.2",
      "provenance": []
    },
    "kernelspec": {
      "name": "python3",
      "display_name": "Python 3"
    }
  },
  "cells": [
    {
      "metadata": {
        "id": "0EK0rgP9LpmB",
        "colab_type": "text"
      },
      "cell_type": "markdown",
      "source": [
        "Import required packages"
      ]
    },
    {
      "metadata": {
        "id": "eUCyoenGKohU",
        "colab_type": "code",
        "colab": {}
      },
      "cell_type": "code",
      "source": [
        "import tensorflow as tf\n",
        "import numpy as np\n",
        "\n",
        "from collections import Counter\n",
        "\n",
        "import keras\n",
        "\n",
        "from keras.layers import LSTM, Dense, Embedding, Dropout\n",
        "from keras.models import Sequential\n",
        "\n",
        "import matplotlib.pyplot as plt"
      ],
      "execution_count": 0,
      "outputs": []
    },
    {
      "metadata": {
        "id": "3LTubdP_LuSd",
        "colab_type": "text"
      },
      "cell_type": "markdown",
      "source": [
        "Add my google drive..."
      ]
    },
    {
      "metadata": {
        "id": "Oi1787JwK2UK",
        "colab_type": "code",
        "colab": {}
      },
      "cell_type": "code",
      "source": [
        "from google.colab import drive\n",
        "drive.mount('/content/drive')"
      ],
      "execution_count": 0,
      "outputs": []
    },
    {
      "metadata": {
        "id": "sOXFCj5ML1K3",
        "colab_type": "text"
      },
      "cell_type": "markdown",
      "source": [
        "Open some embeddings and add a random \"<unk\\>\" embedding"
      ]
    },
    {
      "metadata": {
        "id": "U1T_UQrMK8v1",
        "colab_type": "code",
        "colab": {}
      },
      "cell_type": "code",
      "source": [
        "def load_mimic_model(mimic):\n",
        "  with open(mimic,'r') as f:\n",
        "    embeds = {}\n",
        "    for line in f.readlines():\n",
        "      split_line = line.split()\n",
        "      word = split_line[0]\n",
        "      embedding = np.array([float(val) for val in split_line[1:]])\n",
        "      embeds[word] = embedding\n",
        "    return embeds"
      ],
      "execution_count": 0,
      "outputs": []
    },
    {
      "metadata": {
        "id": "Li-Zx-BbLCmY",
        "colab_type": "code",
        "colab": {}
      },
      "cell_type": "code",
      "source": [
        "emfile50 = '/content/drive/My Drive/DeepLearning/mimic3.embeddings.50'\n",
        "emfile400 = '/content/drive/My Drive/DeepLearning/mimic3.embeddings.400'\n",
        "\n",
        "embeddings = load_mimic_model(emfile50)"
      ],
      "execution_count": 0,
      "outputs": []
    },
    {
      "metadata": {
        "id": "XoBQaAGLLcwI",
        "colab_type": "code",
        "colab": {}
      },
      "cell_type": "code",
      "source": [
        "embed_size = embeddings['the'].shape[0]\n",
        "\n",
        "np.random.seed(0) # I am seeding random events, if possible, to control output\n",
        "embeddings['<unk>'] = np.random.randn(embed_size)"
      ],
      "execution_count": 0,
      "outputs": []
    }
  ]
}